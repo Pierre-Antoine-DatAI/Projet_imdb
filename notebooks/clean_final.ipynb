{
 "cells": [
  {
   "cell_type": "code",
   "execution_count": 1,
   "id": "8ea09664",
   "metadata": {},
   "outputs": [],
   "source": [
    "import pandas as pd"
   ]
  },
  {
   "cell_type": "code",
   "execution_count": 2,
   "id": "27b95b0f",
   "metadata": {},
   "outputs": [],
   "source": [
    "df = pd.read_csv('final3.csv')"
   ]
  },
  {
   "cell_type": "code",
   "execution_count": 3,
   "id": "d9bd013f",
   "metadata": {},
   "outputs": [],
   "source": [
    "df = df.drop(columns=\"tagline\")\n",
    "df = df.dropna(subset=['imdb_id'])\n",
    "df = df.dropna(subset=['id_actor'])\n",
    "df = df.dropna(subset=['id_productor'])\n",
    "df = df.dropna(subset=['knownForTitles'])\n",
    "df = df.dropna(subset=['backdrop_path'])"
   ]
  },
  {
   "cell_type": "code",
   "execution_count": 4,
   "id": "48ab2174",
   "metadata": {},
   "outputs": [
    {
     "data": {
      "text/plain": [
       "Index(['title', 'vote_average', 'vote_count', 'release_date', 'revenue',\n",
       "       'runtime', 'backdrop_path', 'budget', 'imdb_id', 'overview',\n",
       "       'popularity', 'poster_path', 'genres', 'production_companies',\n",
       "       'keywords', 'id_actor', 'id_productor', 'actor_name', 'knownForTitles',\n",
       "       'productor_name'],\n",
       "      dtype='object')"
      ]
     },
     "execution_count": 4,
     "metadata": {},
     "output_type": "execute_result"
    }
   ],
   "source": [
    "df.columns"
   ]
  },
  {
   "cell_type": "code",
   "execution_count": 6,
   "id": "52c4521b",
   "metadata": {},
   "outputs": [
    {
     "name": "stdout",
     "output_type": "stream",
     "text": [
      "<class 'pandas.core.frame.DataFrame'>\n",
      "Index: 39672 entries, 0 to 44565\n",
      "Data columns (total 20 columns):\n",
      " #   Column                Non-Null Count  Dtype  \n",
      "---  ------                --------------  -----  \n",
      " 0   title                 39672 non-null  object \n",
      " 1   vote_average          39672 non-null  float64\n",
      " 2   vote_count            39672 non-null  int64  \n",
      " 3   release_date          39672 non-null  object \n",
      " 4   revenue               39672 non-null  int64  \n",
      " 5   runtime               39672 non-null  int64  \n",
      " 6   backdrop_path         39672 non-null  object \n",
      " 7   budget                39672 non-null  int64  \n",
      " 8   imdb_id               39672 non-null  object \n",
      " 9   overview              39541 non-null  object \n",
      " 10  popularity            39672 non-null  float64\n",
      " 11  poster_path           39672 non-null  object \n",
      " 12  genres                39672 non-null  object \n",
      " 13  production_companies  39672 non-null  object \n",
      " 14  keywords              31734 non-null  object \n",
      " 15  id_actor              39672 non-null  object \n",
      " 16  id_productor          39672 non-null  object \n",
      " 17  actor_name            39672 non-null  object \n",
      " 18  knownForTitles        39672 non-null  object \n",
      " 19  productor_name        36460 non-null  object \n",
      "dtypes: float64(2), int64(4), object(14)\n",
      "memory usage: 6.4+ MB\n"
     ]
    }
   ],
   "source": [
    "df.info()"
   ]
  },
  {
   "cell_type": "code",
   "execution_count": 12,
   "id": "64fd6506",
   "metadata": {},
   "outputs": [
    {
     "data": {
      "text/plain": [
       "title                   0\n",
       "vote_average            0\n",
       "vote_count              0\n",
       "release_date            0\n",
       "revenue                 0\n",
       "runtime                 0\n",
       "budget                  0\n",
       "imdb_id                 0\n",
       "overview                0\n",
       "popularity              0\n",
       "poster_path             0\n",
       "genres                  0\n",
       "production_companies    0\n",
       "keywords                0\n",
       "id_actor                0\n",
       "id_productor            0\n",
       "actor_name              0\n",
       "knownForTitles          0\n",
       "productor_name          0\n",
       "dtype: int64"
      ]
     },
     "execution_count": 12,
     "metadata": {},
     "output_type": "execute_result"
    }
   ],
   "source": [
    "df.isna().sum()"
   ]
  },
  {
   "cell_type": "code",
   "execution_count": null,
   "id": "341e3f0d",
   "metadata": {},
   "outputs": [],
   "source": [
    "df = df.dropna(subset=['keywords'])\n",
    "df = df.dropna(subset=['productor_name'])\n",
    "df = df.dropna(subset=['overview'])\n"
   ]
  },
  {
   "cell_type": "code",
   "execution_count": 11,
   "id": "826b9f68",
   "metadata": {},
   "outputs": [],
   "source": [
    "df = df.drop(columns=\"backdrop_path\")"
   ]
  },
  {
   "cell_type": "code",
   "execution_count": null,
   "id": "c644ee86",
   "metadata": {},
   "outputs": [],
   "source": [
    "#df.to_csv('clean_final2.csv', index=False)"
   ]
  }
 ],
 "metadata": {
  "kernelspec": {
   "display_name": "Python 3",
   "language": "python",
   "name": "python3"
  },
  "language_info": {
   "codemirror_mode": {
    "name": "ipython",
    "version": 3
   },
   "file_extension": ".py",
   "mimetype": "text/x-python",
   "name": "python",
   "nbconvert_exporter": "python",
   "pygments_lexer": "ipython3",
   "version": "3.13.2"
  }
 },
 "nbformat": 4,
 "nbformat_minor": 5
}
